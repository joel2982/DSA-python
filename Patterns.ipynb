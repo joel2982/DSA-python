{
  "nbformat": 4,
  "nbformat_minor": 0,
  "metadata": {
    "colab": {
      "provenance": [],
      "authorship_tag": "ABX9TyO4sPCPSgfNFNPRO6nXR3OQ",
      "include_colab_link": true
    },
    "kernelspec": {
      "name": "python3",
      "display_name": "Python 3"
    },
    "language_info": {
      "name": "python"
    }
  },
  "cells": [
    {
      "cell_type": "markdown",
      "metadata": {
        "id": "view-in-github",
        "colab_type": "text"
      },
      "source": [
        "<a href=\"https://colab.research.google.com/github/joel2982/DSA-python/blob/master/Patterns.ipynb\" target=\"_parent\"><img src=\"https://colab.research.google.com/assets/colab-badge.svg\" alt=\"Open In Colab\"/></a>"
      ]
    },
    {
      "cell_type": "code",
      "execution_count": null,
      "metadata": {
        "colab": {
          "base_uri": "https://localhost:8080/"
        },
        "id": "Iu7fUZN7jp6f",
        "outputId": "70a5066d-1616-493a-9800-d8dc0358e5f3"
      },
      "outputs": [
        {
          "output_type": "stream",
          "name": "stdout",
          "text": [
            "*******\n",
            " *****\n",
            "  ***\n",
            "   *\n"
          ]
        }
      ],
      "source": [
        "def nStarTriangle(n: int) -> None:\n",
        "    # Write your code here.\n",
        "    for i in range(n,0,-1):\n",
        "        for j in range(n-i,0,-1):\n",
        "            print('',end=' ')\n",
        "        for j in range(2*i-1):\n",
        "            print('*',end='')\n",
        "        print()\n",
        "    pass\n",
        "nStarTriangle(4)"
      ]
    },
    {
      "cell_type": "code",
      "source": [
        "def nStarDiamond(n: int) -> None:\n",
        "    # Write your code here.\n",
        "    for i in range(1,n+1):\n",
        "        for j in range(n-i):\n",
        "            print('',end=' ')\n",
        "        for j in range(2*i-1):\n",
        "            print('*',end='')\n",
        "        print()\n",
        "    for i in range(n,0,-1):\n",
        "        for j in range(n-i):\n",
        "            print('',end=' ')\n",
        "        for j in range(2*i-1):\n",
        "            print('*',end='')\n",
        "        print()\n",
        "    pass\n",
        "nStarDiamond(4)"
      ],
      "metadata": {
        "colab": {
          "base_uri": "https://localhost:8080/"
        },
        "id": "XbBjXsD5l6O_",
        "outputId": "069f5d34-59d2-4446-86fd-eb9e958a7c6d"
      },
      "execution_count": null,
      "outputs": [
        {
          "output_type": "stream",
          "name": "stdout",
          "text": [
            "   *\n",
            "  ***\n",
            " *****\n",
            "*******\n",
            "*******\n",
            " *****\n",
            "  ***\n",
            "   *\n"
          ]
        }
      ]
    },
    {
      "cell_type": "code",
      "source": [
        "def roatatedTriangle(n: int) -> None:\n",
        "    # Write your code here.\n",
        "    for i in range(n):\n",
        "        for j in range(i+1):\n",
        "            print('*',end='')\n",
        "        print()\n",
        "    for i in range(n-1,0,-1):\n",
        "        for j in range(i):\n",
        "            print('*',end='')\n",
        "        print()\n",
        "    pass\n",
        "roatatedTriangle(4)"
      ],
      "metadata": {
        "colab": {
          "base_uri": "https://localhost:8080/"
        },
        "id": "czy1QKLSm8pA",
        "outputId": "68b7d2be-c08c-42d9-d46d-fd0e2f60f538"
      },
      "execution_count": null,
      "outputs": [
        {
          "output_type": "stream",
          "name": "stdout",
          "text": [
            "*\n",
            "**\n",
            "***\n",
            "****\n",
            "***\n",
            "**\n",
            "*\n"
          ]
        }
      ]
    },
    {
      "cell_type": "code",
      "source": [
        "def nBinaryTriangle1(n: int) -> None:\n",
        "    # Write your solution here.\n",
        "    for i in range(n):\n",
        "        for j in range(i+1):\n",
        "            if (j+i)%2 == 0:\n",
        "                print('1',end=' ')\n",
        "            else:\n",
        "                print('0',end=' ')\n",
        "        print()\n",
        "    pass\n",
        "nBinaryTriangle1(4)"
      ],
      "metadata": {
        "colab": {
          "base_uri": "https://localhost:8080/"
        },
        "id": "LObCdC-uogOZ",
        "outputId": "79d3b2b8-8d30-4046-914f-8e9d1d52d5b8"
      },
      "execution_count": null,
      "outputs": [
        {
          "output_type": "stream",
          "name": "stdout",
          "text": [
            "1 \n",
            "0 1 \n",
            "1 0 1 \n",
            "0 1 0 1 \n"
          ]
        }
      ]
    },
    {
      "cell_type": "code",
      "source": [
        "def nBinaryTriangle2(n: int) -> None:\n",
        "    # Write your solution here.\n",
        "    start = 1\n",
        "    for i in range(n):\n",
        "      if i%2 == 0:\n",
        "        start = 1\n",
        "      else:\n",
        "        start = 0\n",
        "      for j in range(i+1):\n",
        "            print(start,end=' ')\n",
        "            start = 1-start\n",
        "      print()\n",
        "    pass\n",
        "nBinaryTriangle2(4)"
      ],
      "metadata": {
        "colab": {
          "base_uri": "https://localhost:8080/"
        },
        "id": "nz5NkMWurAve",
        "outputId": "2ff6a6d4-c3df-4bd0-8679-cfa77661eafb"
      },
      "execution_count": null,
      "outputs": [
        {
          "output_type": "stream",
          "name": "stdout",
          "text": [
            "1 \n",
            "0 1 \n",
            "1 0 1 \n",
            "0 1 0 1 \n"
          ]
        }
      ]
    },
    {
      "cell_type": "code",
      "source": [
        "def numberCrown(n: int) -> None:\n",
        "    # Write your solution here.\n",
        "    for i in range(1,n+1):\n",
        "        for j in range(i):\n",
        "            print(j+1,end=' ')\n",
        "        for j in range(2*(n-i)):\n",
        "            print(' ',end=' ')\n",
        "        for j in range(i,0,-1):\n",
        "            print(j,end=' ')\n",
        "        print()\n",
        "    pass\n",
        "numberCrown(4)"
      ],
      "metadata": {
        "colab": {
          "base_uri": "https://localhost:8080/"
        },
        "id": "uZp7oXILr5_e",
        "outputId": "ece8fe44-2bc6-4b2d-aa62-8d6cc68079f4"
      },
      "execution_count": null,
      "outputs": [
        {
          "output_type": "stream",
          "name": "stdout",
          "text": [
            "1             1 \n",
            "1 2         2 1 \n",
            "1 2 3     3 2 1 \n",
            "1 2 3 4 4 3 2 1 \n"
          ]
        }
      ]
    },
    {
      "cell_type": "code",
      "source": [
        "def nNumberTriangle(n: int) -> None:\n",
        "    # Write your solution here.\n",
        "    num = 1\n",
        "    for i in range(n):\n",
        "        for j in range(i+1):\n",
        "            print(num,end=' ')\n",
        "            num += 1\n",
        "        print()\n",
        "    pass\n",
        "nNumberTriangle(4)"
      ],
      "metadata": {
        "colab": {
          "base_uri": "https://localhost:8080/"
        },
        "id": "Vbhpcfqbv6Ms",
        "outputId": "e8762694-912a-4894-cc3b-dc20d04aea07"
      },
      "execution_count": null,
      "outputs": [
        {
          "output_type": "stream",
          "name": "stdout",
          "text": [
            "1 \n",
            "2 3 \n",
            "4 5 6 \n",
            "7 8 9 10 \n"
          ]
        }
      ]
    },
    {
      "cell_type": "code",
      "source": [
        "def nLetterTriangle(n: int):\n",
        "    # Write your solution here.\n",
        "    for i in range(n,0,-1):\n",
        "        for j in range(i):\n",
        "            print(chr(ord('A')+j),end=' ')\n",
        "        print()\n",
        "    pass\n",
        "nLetterTriangle(4)"
      ],
      "metadata": {
        "colab": {
          "base_uri": "https://localhost:8080/"
        },
        "id": "uhBo1jx2yIol",
        "outputId": "a36bb560-fa64-4e6a-8684-52c3d06b77d9"
      },
      "execution_count": null,
      "outputs": [
        {
          "output_type": "stream",
          "name": "stdout",
          "text": [
            "A B C D \n",
            "A B C \n",
            "A B \n",
            "A \n"
          ]
        }
      ]
    },
    {
      "cell_type": "code",
      "source": [
        "def alphaHill(n: int):\n",
        "    # Write your solution from here.\n",
        "    for i in range(n):\n",
        "        for j in range(n-i-1):\n",
        "            print(' ',end=' ')\n",
        "        for j in range(i+1):\n",
        "            print(chr(ord('A')+j),end=' ')\n",
        "        for j in range(i-1,-1,-1):\n",
        "            print(chr(ord('A')+j),end=' ')\n",
        "        print()\n",
        "    pass\n",
        "alphaHill(4)"
      ],
      "metadata": {
        "colab": {
          "base_uri": "https://localhost:8080/"
        },
        "id": "KSCy1KxX5Xa6",
        "outputId": "cfef6c08-d4db-439c-d473-11d742ad8b47"
      },
      "execution_count": null,
      "outputs": [
        {
          "output_type": "stream",
          "name": "stdout",
          "text": [
            "      A \n",
            "    A B A \n",
            "  A B C B A \n",
            "A B C D C B A \n"
          ]
        }
      ]
    },
    {
      "cell_type": "code",
      "source": [
        "def alphaTriangle(n: int):\n",
        "    # Write your solution here.\n",
        "    for i in range(n,0,-1):\n",
        "        for j in range(n,i-1,-1):\n",
        "            print(chr(ord('A')+j-1),end=' ')\n",
        "        print()\n",
        "    pass\n",
        "alphaTriangle(5)"
      ],
      "metadata": {
        "colab": {
          "base_uri": "https://localhost:8080/"
        },
        "id": "P1BjfnK768Ij",
        "outputId": "5468daf8-782d-446c-d271-7f108cfe7327"
      },
      "execution_count": null,
      "outputs": [
        {
          "output_type": "stream",
          "name": "stdout",
          "text": [
            "E \n",
            "E D \n",
            "E D C \n",
            "E D C B \n",
            "E D C B A \n"
          ]
        }
      ]
    },
    {
      "cell_type": "code",
      "source": [
        "def symmetry(n: int):\n",
        "    # Write your solution from here.\n",
        "    for i in range(n):\n",
        "        for j in range(i+1):\n",
        "            print('*',end='')\n",
        "        for j in range(1,n-i):\n",
        "            print(' ',end=' ')\n",
        "        for j in range(i+1):\n",
        "            print('*',end='')\n",
        "        print()\n",
        "    for i in range(n-1,0,-1):\n",
        "        for j in range(i):\n",
        "            print('*',end='')\n",
        "        for j in range(n-i):\n",
        "            print(' ',end=' ')\n",
        "        for j in range(i):\n",
        "            print('*',end='')\n",
        "        print()\n",
        "    pass\n",
        "symmetry(5)"
      ],
      "metadata": {
        "colab": {
          "base_uri": "https://localhost:8080/"
        },
        "id": "j2L0h1QiA245",
        "outputId": "fd3c6a92-3670-4813-a3f5-00a55e4cdd24"
      },
      "execution_count": null,
      "outputs": [
        {
          "output_type": "stream",
          "name": "stdout",
          "text": [
            "*        *\n",
            "**      **\n",
            "***    ***\n",
            "****  ****\n",
            "**********\n",
            "****  ****\n",
            "***    ***\n",
            "**      **\n",
            "*        *\n"
          ]
        }
      ]
    },
    {
      "cell_type": "code",
      "source": [
        "def symmetryVoid(n: int):\n",
        "    # Write your solution from here.\n",
        "    for i in range(n,0,-1):\n",
        "        for j in range(i):\n",
        "            print('*',end='')\n",
        "        for j in range(n-i):\n",
        "            print(' ',end=' ')\n",
        "        for j in range(i):\n",
        "            print('*',end='')\n",
        "        print()\n",
        "    for i in range(n):\n",
        "        for j in range(i+1):\n",
        "            print('*',end='')\n",
        "        for j in range(n-i-1):\n",
        "            print(' ',end=' ')\n",
        "        for j in range(i+1):\n",
        "            print('*',end='')\n",
        "        print()\n",
        "    pass\n",
        "symmetryVoid(5)"
      ],
      "metadata": {
        "colab": {
          "base_uri": "https://localhost:8080/"
        },
        "id": "HC6n8xcFFyf3",
        "outputId": "2e7908a7-c60e-4b3a-f02d-d5567c743f2c"
      },
      "execution_count": null,
      "outputs": [
        {
          "output_type": "stream",
          "name": "stdout",
          "text": [
            "**********\n",
            "****  ****\n",
            "***    ***\n",
            "**      **\n",
            "*        *\n",
            "*        *\n",
            "**      **\n",
            "***    ***\n",
            "****  ****\n",
            "**********\n"
          ]
        }
      ]
    },
    {
      "cell_type": "code",
      "source": [
        "def getSquarePattern(n: int) -> None:\n",
        "    # Write your solution here.\n",
        "    for i in range(n):\n",
        "        for j in range(n):\n",
        "            if i==0 or j==0 or i==(n-1) or j==(n-1):\n",
        "                print('*',end='')\n",
        "            else:\n",
        "                print('',end=' ')\n",
        "        print()\n",
        "    pass\n",
        "getSquarePattern(5)"
      ],
      "metadata": {
        "colab": {
          "base_uri": "https://localhost:8080/"
        },
        "id": "VbD_BqtMIcdV",
        "outputId": "e8ef06b5-d7ed-43ab-b2d3-9e0351fc71ad"
      },
      "execution_count": null,
      "outputs": [
        {
          "output_type": "stream",
          "name": "stdout",
          "text": [
            "*****\n",
            "*   *\n",
            "*   *\n",
            "*   *\n",
            "*****\n"
          ]
        }
      ]
    },
    {
      "cell_type": "code",
      "source": [
        "def getNumberPattern(n: int) -> None:\n",
        "    # Write your solution here.\n",
        "    val = n\n",
        "    for i in range(2*n-1):\n",
        "        for j in range(2*n-1):\n",
        "            top = i\n",
        "            left = j\n",
        "            bottom = 2*n-1-(i+1)\n",
        "            right = 2*n-1-(j+1)\n",
        "            print(n-min(left,right,top,bottom),end='')\n",
        "        print()\n",
        "    pass\n",
        "getNumberPattern(5)"
      ],
      "metadata": {
        "colab": {
          "base_uri": "https://localhost:8080/"
        },
        "id": "Pw-lRDoOME9t",
        "outputId": "d93b7509-7d90-4aef-9420-65cb244d2bbd"
      },
      "execution_count": null,
      "outputs": [
        {
          "output_type": "stream",
          "name": "stdout",
          "text": [
            "555555555\n",
            "544444445\n",
            "543333345\n",
            "543222345\n",
            "543212345\n",
            "543222345\n",
            "543333345\n",
            "544444445\n",
            "555555555\n"
          ]
        }
      ]
    },
    {
      "cell_type": "markdown",
      "source": [
        "This solution sees the output as a (X,Y) coordinate system and takes the max value of x,y at centre it will have the least value"
      ],
      "metadata": {
        "id": "mJPwIMe6VfKF"
      }
    },
    {
      "cell_type": "code",
      "source": [
        "def getNumberPattern2(n: int):\n",
        "    # Filling up the cells.\n",
        "    for i in range(2*n-1):\n",
        "        for j in range(2*n-1):\n",
        "            x = abs(i - n + 1)\n",
        "            y = abs(j - n + 1)\n",
        "            print(max(x, y) + 1, end=\"\")\n",
        "        print()\n",
        "getNumberPattern2(2)"
      ],
      "metadata": {
        "colab": {
          "base_uri": "https://localhost:8080/"
        },
        "id": "Q0a5sFfRUvXw",
        "outputId": "30719cc6-0dcb-43c4-a81f-470851eebd08"
      },
      "execution_count": null,
      "outputs": [
        {
          "output_type": "stream",
          "name": "stdout",
          "text": [
            "222\n",
            "212\n",
            "222\n"
          ]
        }
      ]
    }
  ]
}