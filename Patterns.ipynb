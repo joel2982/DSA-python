{
  "nbformat": 4,
  "nbformat_minor": 0,
  "metadata": {
    "colab": {
      "provenance": [],
      "authorship_tag": "ABX9TyPq14xHW/7cwaLOm2eIAFAn",
      "include_colab_link": true
    },
    "kernelspec": {
      "name": "python3",
      "display_name": "Python 3"
    },
    "language_info": {
      "name": "python"
    }
  },
  "cells": [
    {
      "cell_type": "markdown",
      "metadata": {
        "id": "view-in-github",
        "colab_type": "text"
      },
      "source": [
        "<a href=\"https://colab.research.google.com/github/joel2982/DSA-python/blob/master/Patterns.ipynb\" target=\"_parent\"><img src=\"https://colab.research.google.com/assets/colab-badge.svg\" alt=\"Open In Colab\"/></a>"
      ]
    },
    {
      "cell_type": "markdown",
      "source": [
        "# Patterns"
      ],
      "metadata": {
        "id": "i61nmCig-KVN"
      }
    },
    {
      "cell_type": "code",
      "execution_count": null,
      "metadata": {
        "colab": {
          "base_uri": "https://localhost:8080/"
        },
        "id": "Iu7fUZN7jp6f",
        "outputId": "70a5066d-1616-493a-9800-d8dc0358e5f3"
      },
      "outputs": [
        {
          "output_type": "stream",
          "name": "stdout",
          "text": [
            "*******\n",
            " *****\n",
            "  ***\n",
            "   *\n"
          ]
        }
      ],
      "source": [
        "def nStarTriangle(n: int) -> None:\n",
        "    # Write your code here.\n",
        "    for i in range(n,0,-1):\n",
        "        for j in range(n-i,0,-1):\n",
        "            print('',end=' ')\n",
        "        for j in range(2*i-1):\n",
        "            print('*',end='')\n",
        "        print()\n",
        "    pass\n",
        "nStarTriangle(4)"
      ]
    },
    {
      "cell_type": "code",
      "source": [
        "def nStarDiamond(n: int) -> None:\n",
        "    # Write your code here.\n",
        "    for i in range(1,n+1):\n",
        "        for j in range(n-i):\n",
        "            print('',end=' ')\n",
        "        for j in range(2*i-1):\n",
        "            print('*',end='')\n",
        "        print()\n",
        "    for i in range(n,0,-1):\n",
        "        for j in range(n-i):\n",
        "            print('',end=' ')\n",
        "        for j in range(2*i-1):\n",
        "            print('*',end='')\n",
        "        print()\n",
        "    pass\n",
        "nStarDiamond(4)"
      ],
      "metadata": {
        "colab": {
          "base_uri": "https://localhost:8080/"
        },
        "id": "XbBjXsD5l6O_",
        "outputId": "069f5d34-59d2-4446-86fd-eb9e958a7c6d"
      },
      "execution_count": null,
      "outputs": [
        {
          "output_type": "stream",
          "name": "stdout",
          "text": [
            "   *\n",
            "  ***\n",
            " *****\n",
            "*******\n",
            "*******\n",
            " *****\n",
            "  ***\n",
            "   *\n"
          ]
        }
      ]
    },
    {
      "cell_type": "code",
      "source": [
        "def roatatedTriangle(n: int) -> None:\n",
        "    # Write your code here.\n",
        "    for i in range(n):\n",
        "        for j in range(i+1):\n",
        "            print('*',end='')\n",
        "        print()\n",
        "    for i in range(n-1,0,-1):\n",
        "        for j in range(i):\n",
        "            print('*',end='')\n",
        "        print()\n",
        "    pass\n",
        "roatatedTriangle(4)"
      ],
      "metadata": {
        "colab": {
          "base_uri": "https://localhost:8080/"
        },
        "id": "czy1QKLSm8pA",
        "outputId": "68b7d2be-c08c-42d9-d46d-fd0e2f60f538"
      },
      "execution_count": null,
      "outputs": [
        {
          "output_type": "stream",
          "name": "stdout",
          "text": [
            "*\n",
            "**\n",
            "***\n",
            "****\n",
            "***\n",
            "**\n",
            "*\n"
          ]
        }
      ]
    },
    {
      "cell_type": "code",
      "source": [
        "def nBinaryTriangle1(n: int) -> None:\n",
        "    # Write your solution here.\n",
        "    for i in range(n):\n",
        "        for j in range(i+1):\n",
        "            if (j+i)%2 == 0:\n",
        "                print('1',end=' ')\n",
        "            else:\n",
        "                print('0',end=' ')\n",
        "        print()\n",
        "    pass\n",
        "nBinaryTriangle1(4)"
      ],
      "metadata": {
        "colab": {
          "base_uri": "https://localhost:8080/"
        },
        "id": "LObCdC-uogOZ",
        "outputId": "79d3b2b8-8d30-4046-914f-8e9d1d52d5b8"
      },
      "execution_count": null,
      "outputs": [
        {
          "output_type": "stream",
          "name": "stdout",
          "text": [
            "1 \n",
            "0 1 \n",
            "1 0 1 \n",
            "0 1 0 1 \n"
          ]
        }
      ]
    },
    {
      "cell_type": "code",
      "source": [
        "def nBinaryTriangle2(n: int) -> None:\n",
        "    # Write your solution here.\n",
        "    start = 1\n",
        "    for i in range(n):\n",
        "      if i%2 == 0:\n",
        "        start = 1\n",
        "      else:\n",
        "        start = 0\n",
        "      for j in range(i+1):\n",
        "            print(start,end=' ')\n",
        "            start = 1-start\n",
        "      print()\n",
        "    pass\n",
        "nBinaryTriangle2(4)"
      ],
      "metadata": {
        "colab": {
          "base_uri": "https://localhost:8080/"
        },
        "id": "nz5NkMWurAve",
        "outputId": "2ff6a6d4-c3df-4bd0-8679-cfa77661eafb"
      },
      "execution_count": null,
      "outputs": [
        {
          "output_type": "stream",
          "name": "stdout",
          "text": [
            "1 \n",
            "0 1 \n",
            "1 0 1 \n",
            "0 1 0 1 \n"
          ]
        }
      ]
    },
    {
      "cell_type": "code",
      "source": [
        "def numberCrown(n: int) -> None:\n",
        "    # Write your solution here.\n",
        "    for i in range(1,n+1):\n",
        "        for j in range(i):\n",
        "            print(j+1,end=' ')\n",
        "        for j in range(2*(n-i)):\n",
        "            print(' ',end=' ')\n",
        "        for j in range(i,0,-1):\n",
        "            print(j,end=' ')\n",
        "        print()\n",
        "    pass\n",
        "numberCrown(4)"
      ],
      "metadata": {
        "colab": {
          "base_uri": "https://localhost:8080/"
        },
        "id": "uZp7oXILr5_e",
        "outputId": "ece8fe44-2bc6-4b2d-aa62-8d6cc68079f4"
      },
      "execution_count": null,
      "outputs": [
        {
          "output_type": "stream",
          "name": "stdout",
          "text": [
            "1             1 \n",
            "1 2         2 1 \n",
            "1 2 3     3 2 1 \n",
            "1 2 3 4 4 3 2 1 \n"
          ]
        }
      ]
    },
    {
      "cell_type": "code",
      "source": [
        "def nNumberTriangle(n: int) -> None:\n",
        "    # Write your solution here.\n",
        "    num = 1\n",
        "    for i in range(n):\n",
        "        for j in range(i+1):\n",
        "            print(num,end=' ')\n",
        "            num += 1\n",
        "        print()\n",
        "    pass\n",
        "nNumberTriangle(4)"
      ],
      "metadata": {
        "colab": {
          "base_uri": "https://localhost:8080/"
        },
        "id": "Vbhpcfqbv6Ms",
        "outputId": "e8762694-912a-4894-cc3b-dc20d04aea07"
      },
      "execution_count": null,
      "outputs": [
        {
          "output_type": "stream",
          "name": "stdout",
          "text": [
            "1 \n",
            "2 3 \n",
            "4 5 6 \n",
            "7 8 9 10 \n"
          ]
        }
      ]
    },
    {
      "cell_type": "code",
      "source": [
        "def nLetterTriangle(n: int):\n",
        "    # Write your solution here.\n",
        "    for i in range(n,0,-1):\n",
        "        for j in range(i):\n",
        "            print(chr(ord('A')+j),end=' ')\n",
        "        print()\n",
        "    pass\n",
        "nLetterTriangle(4)"
      ],
      "metadata": {
        "colab": {
          "base_uri": "https://localhost:8080/"
        },
        "id": "uhBo1jx2yIol",
        "outputId": "a36bb560-fa64-4e6a-8684-52c3d06b77d9"
      },
      "execution_count": null,
      "outputs": [
        {
          "output_type": "stream",
          "name": "stdout",
          "text": [
            "A B C D \n",
            "A B C \n",
            "A B \n",
            "A \n"
          ]
        }
      ]
    },
    {
      "cell_type": "code",
      "source": [
        "def alphaHill(n: int):\n",
        "    # Write your solution from here.\n",
        "    for i in range(n):\n",
        "        for j in range(n-i-1):\n",
        "            print(' ',end=' ')\n",
        "        for j in range(i+1):\n",
        "            print(chr(ord('A')+j),end=' ')\n",
        "        for j in range(i-1,-1,-1):\n",
        "            print(chr(ord('A')+j),end=' ')\n",
        "        print()\n",
        "    pass\n",
        "alphaHill(4)"
      ],
      "metadata": {
        "colab": {
          "base_uri": "https://localhost:8080/"
        },
        "id": "KSCy1KxX5Xa6",
        "outputId": "cfef6c08-d4db-439c-d473-11d742ad8b47"
      },
      "execution_count": null,
      "outputs": [
        {
          "output_type": "stream",
          "name": "stdout",
          "text": [
            "      A \n",
            "    A B A \n",
            "  A B C B A \n",
            "A B C D C B A \n"
          ]
        }
      ]
    },
    {
      "cell_type": "code",
      "source": [
        "def alphaTriangle(n: int):\n",
        "    # Write your solution here.\n",
        "    for i in range(n,0,-1):\n",
        "        for j in range(n,i-1,-1):\n",
        "            print(chr(ord('A')+j-1),end=' ')\n",
        "        print()\n",
        "    pass\n",
        "alphaTriangle(5)"
      ],
      "metadata": {
        "colab": {
          "base_uri": "https://localhost:8080/"
        },
        "id": "P1BjfnK768Ij",
        "outputId": "5468daf8-782d-446c-d271-7f108cfe7327"
      },
      "execution_count": null,
      "outputs": [
        {
          "output_type": "stream",
          "name": "stdout",
          "text": [
            "E \n",
            "E D \n",
            "E D C \n",
            "E D C B \n",
            "E D C B A \n"
          ]
        }
      ]
    },
    {
      "cell_type": "code",
      "source": [
        "def symmetry(n: int):\n",
        "    # Write your solution from here.\n",
        "    for i in range(n):\n",
        "        for j in range(i+1):\n",
        "            print('*',end='')\n",
        "        for j in range(1,n-i):\n",
        "            print(' ',end=' ')\n",
        "        for j in range(i+1):\n",
        "            print('*',end='')\n",
        "        print()\n",
        "    for i in range(n-1,0,-1):\n",
        "        for j in range(i):\n",
        "            print('*',end='')\n",
        "        for j in range(n-i):\n",
        "            print(' ',end=' ')\n",
        "        for j in range(i):\n",
        "            print('*',end='')\n",
        "        print()\n",
        "    pass\n",
        "symmetry(5)"
      ],
      "metadata": {
        "colab": {
          "base_uri": "https://localhost:8080/"
        },
        "id": "j2L0h1QiA245",
        "outputId": "fd3c6a92-3670-4813-a3f5-00a55e4cdd24"
      },
      "execution_count": null,
      "outputs": [
        {
          "output_type": "stream",
          "name": "stdout",
          "text": [
            "*        *\n",
            "**      **\n",
            "***    ***\n",
            "****  ****\n",
            "**********\n",
            "****  ****\n",
            "***    ***\n",
            "**      **\n",
            "*        *\n"
          ]
        }
      ]
    },
    {
      "cell_type": "code",
      "source": [
        "def symmetryVoid(n: int):\n",
        "    # Write your solution from here.\n",
        "    for i in range(n,0,-1):\n",
        "        for j in range(i):\n",
        "            print('*',end='')\n",
        "        for j in range(n-i):\n",
        "            print(' ',end=' ')\n",
        "        for j in range(i):\n",
        "            print('*',end='')\n",
        "        print()\n",
        "    for i in range(n):\n",
        "        for j in range(i+1):\n",
        "            print('*',end='')\n",
        "        for j in range(n-i-1):\n",
        "            print(' ',end=' ')\n",
        "        for j in range(i+1):\n",
        "            print('*',end='')\n",
        "        print()\n",
        "    pass\n",
        "symmetryVoid(5)"
      ],
      "metadata": {
        "colab": {
          "base_uri": "https://localhost:8080/"
        },
        "id": "HC6n8xcFFyf3",
        "outputId": "2e7908a7-c60e-4b3a-f02d-d5567c743f2c"
      },
      "execution_count": null,
      "outputs": [
        {
          "output_type": "stream",
          "name": "stdout",
          "text": [
            "**********\n",
            "****  ****\n",
            "***    ***\n",
            "**      **\n",
            "*        *\n",
            "*        *\n",
            "**      **\n",
            "***    ***\n",
            "****  ****\n",
            "**********\n"
          ]
        }
      ]
    },
    {
      "cell_type": "code",
      "source": [
        "def getSquarePattern(n: int) -> None:\n",
        "    # Write your solution here.\n",
        "    for i in range(n):\n",
        "        for j in range(n):\n",
        "            if i==0 or j==0 or i==(n-1) or j==(n-1):\n",
        "                print('*',end='')\n",
        "            else:\n",
        "                print('',end=' ')\n",
        "        print()\n",
        "    pass\n",
        "getSquarePattern(5)"
      ],
      "metadata": {
        "colab": {
          "base_uri": "https://localhost:8080/"
        },
        "id": "VbD_BqtMIcdV",
        "outputId": "e8ef06b5-d7ed-43ab-b2d3-9e0351fc71ad"
      },
      "execution_count": null,
      "outputs": [
        {
          "output_type": "stream",
          "name": "stdout",
          "text": [
            "*****\n",
            "*   *\n",
            "*   *\n",
            "*   *\n",
            "*****\n"
          ]
        }
      ]
    },
    {
      "cell_type": "code",
      "source": [
        "def getNumberPattern(n: int) -> None:\n",
        "    # Write your solution here.\n",
        "    val = n\n",
        "    for i in range(2*n-1):\n",
        "        for j in range(2*n-1):\n",
        "            top = i\n",
        "            left = j\n",
        "            bottom = 2*n-1-(i+1)\n",
        "            right = 2*n-1-(j+1)\n",
        "            print(n-min(left,right,top,bottom),end='')\n",
        "        print()\n",
        "    pass\n",
        "getNumberPattern(5)"
      ],
      "metadata": {
        "colab": {
          "base_uri": "https://localhost:8080/"
        },
        "id": "Pw-lRDoOME9t",
        "outputId": "d93b7509-7d90-4aef-9420-65cb244d2bbd"
      },
      "execution_count": null,
      "outputs": [
        {
          "output_type": "stream",
          "name": "stdout",
          "text": [
            "555555555\n",
            "544444445\n",
            "543333345\n",
            "543222345\n",
            "543212345\n",
            "543222345\n",
            "543333345\n",
            "544444445\n",
            "555555555\n"
          ]
        }
      ]
    },
    {
      "cell_type": "markdown",
      "source": [
        "This solution sees the output as a (X,Y) coordinate system and takes the max value of x,y at centre it will have the least value"
      ],
      "metadata": {
        "id": "mJPwIMe6VfKF"
      }
    },
    {
      "cell_type": "code",
      "source": [
        "def getNumberPattern2(n: int):\n",
        "    # Filling up the cells.\n",
        "    for i in range(2*n-1):\n",
        "        for j in range(2*n-1):\n",
        "            x = abs(i - n + 1)\n",
        "            y = abs(j - n + 1)\n",
        "            print(max(x, y) + 1, end=\"\")\n",
        "        print()\n",
        "getNumberPattern2(2)"
      ],
      "metadata": {
        "colab": {
          "base_uri": "https://localhost:8080/"
        },
        "id": "Q0a5sFfRUvXw",
        "outputId": "30719cc6-0dcb-43c4-a81f-470851eebd08"
      },
      "execution_count": null,
      "outputs": [
        {
          "output_type": "stream",
          "name": "stdout",
          "text": [
            "222\n",
            "212\n",
            "222\n"
          ]
        }
      ]
    },
    {
      "cell_type": "markdown",
      "source": [
        "# Basic Maths"
      ],
      "metadata": {
        "id": "gHGCmunN-P5D"
      }
    },
    {
      "cell_type": "markdown",
      "source": [
        "Problem statement\n",
        "\n",
        "You are given a number ’n’.\n",
        "\n",
        "\n",
        "\n",
        "Find the number of digits of ‘n’ that evenly divide ‘n’.\n",
        "\n",
        "\n",
        "\n",
        "Note:\n",
        "A digit evenly divides ‘n’ if it leaves no remainder when dividing ‘n’.\n"
      ],
      "metadata": {
        "id": "2ooLBydj-f-R"
      }
    },
    {
      "cell_type": "code",
      "source": [
        "def countDigits(n: int) -> int:\n",
        "    temp = n\n",
        "    count = 0\n",
        "    while temp>0:\n",
        "        digit = temp%10\n",
        "        if digit != 0 and n%digit == 0:\n",
        "            count += 1\n",
        "        temp = temp//10\n",
        "    return count\n",
        "    pass\n",
        "countDigits(231)"
      ],
      "metadata": {
        "colab": {
          "base_uri": "https://localhost:8080/"
        },
        "id": "MpOOEMzD-ZVg",
        "outputId": "6f95ab36-f15d-4dca-b330-7a718399625e"
      },
      "execution_count": null,
      "outputs": [
        {
          "output_type": "execute_result",
          "data": {
            "text/plain": [
              "2"
            ]
          },
          "metadata": {},
          "execution_count": 1
        }
      ]
    },
    {
      "cell_type": "markdown",
      "source": [
        "**Problem statement**\n",
        "\n",
        "There is a song concert going to happen in the city. The price of each ticket is equal to the number obtained after reversing the bits of a given 32 bits unsigned integer ‘n’."
      ],
      "metadata": {
        "id": "WiTwQYkzD2fR"
      }
    },
    {
      "cell_type": "code",
      "source": [
        "def reverseBits1(n):\n",
        "    new_n = 0\n",
        "    temp = n\n",
        "    i = 0\n",
        "    while temp>0:\n",
        "        digit = temp%2\n",
        "        if digit == 1:\n",
        "            new_n += pow(2,31-i)\n",
        "        i+=1\n",
        "        temp = temp//2\n",
        "    return new_n\n",
        "reverseBits1(12)"
      ],
      "metadata": {
        "colab": {
          "base_uri": "https://localhost:8080/"
        },
        "id": "5bYXxxhm-pAM",
        "outputId": "264ea2fb-9d24-4e4e-b3d6-c2d86f231b4a"
      },
      "execution_count": null,
      "outputs": [
        {
          "output_type": "execute_result",
          "data": {
            "text/plain": [
              "805306368"
            ]
          },
          "metadata": {},
          "execution_count": 8
        }
      ]
    },
    {
      "cell_type": "code",
      "source": [
        "def reverseBits2(n):\n",
        "    x = bin(n)\n",
        "    x = str(x)\n",
        "    x = x[:1:-1]+\"0\"*(34-len(x))\n",
        "    y = int(x,2)\n",
        "    return y\n",
        "reverseBits2(12)"
      ],
      "metadata": {
        "colab": {
          "base_uri": "https://localhost:8080/"
        },
        "id": "cPCce4e4EI7l",
        "outputId": "2a680532-196e-4a6f-c84c-c4cb4d3b24eb"
      },
      "execution_count": null,
      "outputs": [
        {
          "output_type": "execute_result",
          "data": {
            "text/plain": [
              "805306368"
            ]
          },
          "metadata": {},
          "execution_count": 9
        }
      ]
    },
    {
      "cell_type": "markdown",
      "source": [
        "**Problem Statement (LeetCode)**\n",
        "\n",
        "Given a signed 32-bit integer x, return x with its digits reversed. If reversing x causes the value to go outside the signed 32-bit integer range [-231, 231 - 1], then return 0.\n",
        "\n",
        "Assume the environment does not allow you to store 64-bit integers (signed or unsigned)."
      ],
      "metadata": {
        "id": "3BFsxyfpOxse"
      }
    },
    {
      "cell_type": "code",
      "source": [
        "# OPTIMAL TIME AND SPACE COMPLEXITY\n",
        "import math\n",
        "def reverse(x: int) -> int:\n",
        "    MAX_INT = 2 **31 -1\n",
        "    MIN_INT = -2 ** 31\n",
        "    reverse = 0\n",
        "    while x!=0:\n",
        "        if (reverse > (MAX_INT/10) or reverse < (MIN_INT/10)):\n",
        "            return 0\n",
        "        digit = x%10 if x > 0 else x%-10\n",
        "        reverse = reverse *10+digit\n",
        "        x = math.trunc(x/10)\n",
        "    return reverse\n",
        "reverse(231)"
      ],
      "metadata": {
        "colab": {
          "base_uri": "https://localhost:8080/"
        },
        "id": "u94ArqOvFCi0",
        "outputId": "ebbacc1b-17f7-40d9-f0ae-7f2108cce1c9"
      },
      "execution_count": null,
      "outputs": [
        {
          "output_type": "execute_result",
          "data": {
            "text/plain": [
              "132"
            ]
          },
          "metadata": {},
          "execution_count": 11
        }
      ]
    },
    {
      "cell_type": "code",
      "source": [
        "reverse(1211111111119)"
      ],
      "metadata": {
        "colab": {
          "base_uri": "https://localhost:8080/"
        },
        "id": "jAawRoUDOABW",
        "outputId": "542811a5-97ea-4143-ed87-d42d0e6c0f9a"
      },
      "execution_count": null,
      "outputs": [
        {
          "output_type": "execute_result",
          "data": {
            "text/plain": [
              "0"
            ]
          },
          "metadata": {},
          "execution_count": 12
        }
      ]
    },
    {
      "cell_type": "code",
      "source": [
        "def my_reverse(x: int) -> int:\n",
        "    temp = abs(x)\n",
        "    reversed_num  = 0\n",
        "    while abs(temp) > 0:\n",
        "        digit = temp%10\n",
        "        if x > 0:\n",
        "            reversed_num = reversed_num*10 + digit\n",
        "        else:\n",
        "            reversed_num = reversed_num*10 - digit\n",
        "        temp //= 10\n",
        "    if len(bin(abs(reversed_num)))>33:\n",
        "        return 0\n",
        "    else:\n",
        "        return reversed_num\n",
        "my_reverse(312)"
      ],
      "metadata": {
        "colab": {
          "base_uri": "https://localhost:8080/"
        },
        "id": "RvLt7ds2OIQ2",
        "outputId": "22422fc1-5ade-458e-b5bc-f79064d5f160"
      },
      "execution_count": null,
      "outputs": [
        {
          "output_type": "execute_result",
          "data": {
            "text/plain": [
              "213"
            ]
          },
          "metadata": {},
          "execution_count": 13
        }
      ]
    },
    {
      "cell_type": "markdown",
      "source": [
        "Find GCD of two numbers"
      ],
      "metadata": {
        "id": "e7lSxSPBhQHe"
      }
    },
    {
      "cell_type": "code",
      "source": [
        "# Euclidean Algorithm\n",
        "def calcGDC(n:int, m: int) -> int:\n",
        "    # Write your code here\n",
        "    while n and m:\n",
        "        if m>n:\n",
        "            m = m%n\n",
        "        else:\n",
        "            n = n%m\n",
        "    if n:\n",
        "        return n\n",
        "    else:\n",
        "        return m\n",
        "calcGDC(36,63)"
      ],
      "metadata": {
        "colab": {
          "base_uri": "https://localhost:8080/"
        },
        "id": "UysMuOnPOwLI",
        "outputId": "d5fc9783-d16d-4d7f-e8a7-98f3cac7e051"
      },
      "execution_count": null,
      "outputs": [
        {
          "output_type": "execute_result",
          "data": {
            "text/plain": [
              "9"
            ]
          },
          "metadata": {},
          "execution_count": 16
        }
      ]
    },
    {
      "cell_type": "markdown",
      "source": [
        "**Problem Statement**\n",
        "\n",
        "You are given an integer ‘n’.\n",
        "\n",
        "\n",
        "\n",
        "Function ‘sumOfDivisors(n)’ is defined as the sum of all divisors of ‘n’.\n",
        "\n",
        "\n",
        "\n",
        "Find the sum of ‘sumOfDivisors(i)’ for all ‘i’ from 1 to ‘n’.\n",
        "\n",
        "https://www.codingninjas.com/studio/problems/sum-of-all-divisors_8360720?leftPanelTabValue=SOLUTION\n",
        "\n",
        "https://www.geeksforgeeks.org/sum-divisors-1-n/"
      ],
      "metadata": {
        "id": "GsnoaqkiGOSA"
      }
    },
    {
      "cell_type": "markdown",
      "source": [
        "**Problem statement**\n",
        "\n",
        "You are given an integer ’n’.\n",
        "\n",
        "Your task is to return a sorted array (in increasing order) containing all the factorial numbers which are less than or equal to ‘n’.\n",
        "\n",
        "The factorial number is a factorial of a positive integer, like 24 is a factorial number, as it is a factorial of 4.\n",
        "\n",
        "Note:\n",
        "In the output, you will see the array returned by you.\n",
        "\n",
        "Example:\n",
        "Input: ‘n’ = 7\n",
        "\n",
        "Output: 1 2 6\n",
        "\n",
        "Explanation: Factorial numbers less than or equal to ‘7’ are ‘1’, ‘2’, and ‘6’."
      ],
      "metadata": {
        "id": "dpGRZ0OKWD3_"
      }
    },
    {
      "cell_type": "code",
      "source": [
        "from typing import List\n",
        "\n",
        "def factorial(n: int,fact: List[int],i) -> None:\n",
        "    num = int(fact[-1])*i\n",
        "    if n < num:\n",
        "        return\n",
        "    fact.append(num)\n",
        "    factorial(n,fact,i+1)\n",
        "\n",
        "def factorialNumbers(n: int) -> List[int]:\n",
        "    ans = [1]\n",
        "    factorial(n,ans,2)\n",
        "    return ans\n",
        "\n",
        "factorialNumbers(7)"
      ],
      "metadata": {
        "colab": {
          "base_uri": "https://localhost:8080/"
        },
        "id": "Tlcb8DJ9WCoH",
        "outputId": "1d7e7ffa-17bf-4fe1-a434-9598409f6f51"
      },
      "execution_count": null,
      "outputs": [
        {
          "output_type": "execute_result",
          "data": {
            "text/plain": [
              "[1, 2, 6]"
            ]
          },
          "metadata": {},
          "execution_count": 4
        }
      ]
    },
    {
      "cell_type": "markdown",
      "source": [
        "**Reverse Array**\n",
        "\n",
        "Given an array 'arr' of size 'n'.\n",
        "\n",
        "Return an array with all the elements placed in reverse order."
      ],
      "metadata": {
        "id": "EglLVwBydr15"
      }
    },
    {
      "cell_type": "code",
      "source": [
        "def reverseList(start: int, end: int, nums: List[int]) -> List[int]:\n",
        "    if start >= end:\n",
        "        return\n",
        "    nums[start],nums[end] =nums[end],nums[start]\n",
        "    reverseList(start+1,end-1,nums)\n",
        "\n",
        "def reverseArray(n: int, nums: List[int]) -> List[int]:\n",
        "    reverseList(0,n-1,nums)\n",
        "    return nums\n",
        "reverseArray(5,[1,2,3,4,5])"
      ],
      "metadata": {
        "colab": {
          "base_uri": "https://localhost:8080/"
        },
        "id": "JbKfUV4dddnP",
        "outputId": "cd406584-1982-4a1c-f1f8-9f5f63bc9a0b"
      },
      "execution_count": null,
      "outputs": [
        {
          "output_type": "execute_result",
          "data": {
            "text/plain": [
              "[5, 4, 3, 2, 1]"
            ]
          },
          "metadata": {},
          "execution_count": 5
        }
      ]
    },
    {
      "cell_type": "markdown",
      "source": [
        "**List of N fibonacci Numbers**\n",
        "\n",
        "https://www.codingninjas.com/studio/problems/print-fibonacci-series_7421617?leftPanelTabValue=SOLUTION"
      ],
      "metadata": {
        "id": "9Uj85AVDxpVX"
      }
    },
    {
      "cell_type": "code",
      "source": [],
      "metadata": {
        "id": "kJtUH2h3dgKS",
        "colab": {
          "base_uri": "https://localhost:8080/",
          "height": 356
        },
        "outputId": "400494e1-aef1-4b3b-e098-a6d84f8febab"
      },
      "execution_count": null,
      "outputs": [
        {
          "output_type": "error",
          "ename": "TypeError",
          "evalue": "can only concatenate list (not \"int\") to list",
          "traceback": [
            "\u001b[0;31m---------------------------------------------------------------------------\u001b[0m",
            "\u001b[0;31mTypeError\u001b[0m                                 Traceback (most recent call last)",
            "\u001b[0;32m<ipython-input-8-e3ffdd8a3865>\u001b[0m in \u001b[0;36m<cell line: 15>\u001b[0;34m()\u001b[0m\n\u001b[1;32m     13\u001b[0m     \u001b[0mdp\u001b[0m \u001b[0;34m=\u001b[0m \u001b[0;34m[\u001b[0m\u001b[0;34m-\u001b[0m\u001b[0;36m1\u001b[0m\u001b[0;34m]\u001b[0m \u001b[0;34m*\u001b[0m \u001b[0;34m(\u001b[0m\u001b[0mn\u001b[0m \u001b[0;34m+\u001b[0m \u001b[0;36m1\u001b[0m\u001b[0;34m)\u001b[0m\u001b[0;34m\u001b[0m\u001b[0;34m\u001b[0m\u001b[0m\n\u001b[1;32m     14\u001b[0m     \u001b[0;32mreturn\u001b[0m \u001b[0mfib_dp\u001b[0m\u001b[0;34m(\u001b[0m\u001b[0mn\u001b[0m\u001b[0;34m,\u001b[0m \u001b[0mdp\u001b[0m\u001b[0;34m)\u001b[0m\u001b[0;34m\u001b[0m\u001b[0;34m\u001b[0m\u001b[0m\n\u001b[0;32m---> 15\u001b[0;31m \u001b[0mfib\u001b[0m\u001b[0;34m(\u001b[0m\u001b[0;36m5\u001b[0m\u001b[0;34m)\u001b[0m\u001b[0;34m\u001b[0m\u001b[0;34m\u001b[0m\u001b[0m\n\u001b[0m",
            "\u001b[0;32m<ipython-input-8-e3ffdd8a3865>\u001b[0m in \u001b[0;36mfib\u001b[0;34m(n)\u001b[0m\n\u001b[1;32m     12\u001b[0m     \u001b[0;31m# Initialize memoization array with -1\u001b[0m\u001b[0;34m\u001b[0m\u001b[0;34m\u001b[0m\u001b[0m\n\u001b[1;32m     13\u001b[0m     \u001b[0mdp\u001b[0m \u001b[0;34m=\u001b[0m \u001b[0;34m[\u001b[0m\u001b[0;34m-\u001b[0m\u001b[0;36m1\u001b[0m\u001b[0;34m]\u001b[0m \u001b[0;34m*\u001b[0m \u001b[0;34m(\u001b[0m\u001b[0mn\u001b[0m \u001b[0;34m+\u001b[0m \u001b[0;36m1\u001b[0m\u001b[0;34m)\u001b[0m\u001b[0;34m\u001b[0m\u001b[0;34m\u001b[0m\u001b[0m\n\u001b[0;32m---> 14\u001b[0;31m     \u001b[0;32mreturn\u001b[0m \u001b[0mfib_dp\u001b[0m\u001b[0;34m(\u001b[0m\u001b[0mn\u001b[0m\u001b[0;34m,\u001b[0m \u001b[0mdp\u001b[0m\u001b[0;34m)\u001b[0m\u001b[0;34m\u001b[0m\u001b[0;34m\u001b[0m\u001b[0m\n\u001b[0m\u001b[1;32m     15\u001b[0m \u001b[0mfib\u001b[0m\u001b[0;34m(\u001b[0m\u001b[0;36m5\u001b[0m\u001b[0;34m)\u001b[0m\u001b[0;34m\u001b[0m\u001b[0;34m\u001b[0m\u001b[0m\n",
            "\u001b[0;32m<ipython-input-8-e3ffdd8a3865>\u001b[0m in \u001b[0;36mfib_dp\u001b[0;34m(n, dp)\u001b[0m\n\u001b[1;32m      8\u001b[0m         \u001b[0;32melif\u001b[0m \u001b[0mdp\u001b[0m\u001b[0;34m[\u001b[0m\u001b[0mn\u001b[0m\u001b[0;34m]\u001b[0m \u001b[0;34m!=\u001b[0m \u001b[0;34m-\u001b[0m\u001b[0;36m1\u001b[0m\u001b[0;34m:\u001b[0m\u001b[0;34m\u001b[0m\u001b[0;34m\u001b[0m\u001b[0m\n\u001b[1;32m      9\u001b[0m             \u001b[0;32mreturn\u001b[0m \u001b[0mdp\u001b[0m\u001b[0;34m[\u001b[0m\u001b[0mn\u001b[0m\u001b[0;34m]\u001b[0m\u001b[0;34m\u001b[0m\u001b[0;34m\u001b[0m\u001b[0m\n\u001b[0;32m---> 10\u001b[0;31m         \u001b[0mdp\u001b[0m\u001b[0;34m[\u001b[0m\u001b[0mn\u001b[0m\u001b[0;34m]\u001b[0m \u001b[0;34m=\u001b[0m \u001b[0mfib_dp\u001b[0m\u001b[0;34m(\u001b[0m\u001b[0mn\u001b[0m \u001b[0;34m-\u001b[0m \u001b[0;36m1\u001b[0m\u001b[0;34m,\u001b[0m \u001b[0mdp\u001b[0m\u001b[0;34m)\u001b[0m \u001b[0;34m+\u001b[0m \u001b[0mfib_dp\u001b[0m\u001b[0;34m(\u001b[0m\u001b[0mn\u001b[0m \u001b[0;34m-\u001b[0m \u001b[0;36m2\u001b[0m\u001b[0;34m,\u001b[0m \u001b[0mdp\u001b[0m\u001b[0;34m)\u001b[0m\u001b[0;34m\u001b[0m\u001b[0;34m\u001b[0m\u001b[0m\n\u001b[0m\u001b[1;32m     11\u001b[0m         \u001b[0;32mreturn\u001b[0m \u001b[0mdp\u001b[0m\u001b[0;34m\u001b[0m\u001b[0;34m\u001b[0m\u001b[0m\n\u001b[1;32m     12\u001b[0m     \u001b[0;31m# Initialize memoization array with -1\u001b[0m\u001b[0;34m\u001b[0m\u001b[0;34m\u001b[0m\u001b[0m\n",
            "\u001b[0;32m<ipython-input-8-e3ffdd8a3865>\u001b[0m in \u001b[0;36mfib_dp\u001b[0;34m(n, dp)\u001b[0m\n\u001b[1;32m      8\u001b[0m         \u001b[0;32melif\u001b[0m \u001b[0mdp\u001b[0m\u001b[0;34m[\u001b[0m\u001b[0mn\u001b[0m\u001b[0;34m]\u001b[0m \u001b[0;34m!=\u001b[0m \u001b[0;34m-\u001b[0m\u001b[0;36m1\u001b[0m\u001b[0;34m:\u001b[0m\u001b[0;34m\u001b[0m\u001b[0;34m\u001b[0m\u001b[0m\n\u001b[1;32m      9\u001b[0m             \u001b[0;32mreturn\u001b[0m \u001b[0mdp\u001b[0m\u001b[0;34m[\u001b[0m\u001b[0mn\u001b[0m\u001b[0;34m]\u001b[0m\u001b[0;34m\u001b[0m\u001b[0;34m\u001b[0m\u001b[0m\n\u001b[0;32m---> 10\u001b[0;31m         \u001b[0mdp\u001b[0m\u001b[0;34m[\u001b[0m\u001b[0mn\u001b[0m\u001b[0;34m]\u001b[0m \u001b[0;34m=\u001b[0m \u001b[0mfib_dp\u001b[0m\u001b[0;34m(\u001b[0m\u001b[0mn\u001b[0m \u001b[0;34m-\u001b[0m \u001b[0;36m1\u001b[0m\u001b[0;34m,\u001b[0m \u001b[0mdp\u001b[0m\u001b[0;34m)\u001b[0m \u001b[0;34m+\u001b[0m \u001b[0mfib_dp\u001b[0m\u001b[0;34m(\u001b[0m\u001b[0mn\u001b[0m \u001b[0;34m-\u001b[0m \u001b[0;36m2\u001b[0m\u001b[0;34m,\u001b[0m \u001b[0mdp\u001b[0m\u001b[0;34m)\u001b[0m\u001b[0;34m\u001b[0m\u001b[0;34m\u001b[0m\u001b[0m\n\u001b[0m\u001b[1;32m     11\u001b[0m         \u001b[0;32mreturn\u001b[0m \u001b[0mdp\u001b[0m\u001b[0;34m\u001b[0m\u001b[0;34m\u001b[0m\u001b[0m\n\u001b[1;32m     12\u001b[0m     \u001b[0;31m# Initialize memoization array with -1\u001b[0m\u001b[0;34m\u001b[0m\u001b[0;34m\u001b[0m\u001b[0m\n",
            "\u001b[0;32m<ipython-input-8-e3ffdd8a3865>\u001b[0m in \u001b[0;36mfib_dp\u001b[0;34m(n, dp)\u001b[0m\n\u001b[1;32m      8\u001b[0m         \u001b[0;32melif\u001b[0m \u001b[0mdp\u001b[0m\u001b[0;34m[\u001b[0m\u001b[0mn\u001b[0m\u001b[0;34m]\u001b[0m \u001b[0;34m!=\u001b[0m \u001b[0;34m-\u001b[0m\u001b[0;36m1\u001b[0m\u001b[0;34m:\u001b[0m\u001b[0;34m\u001b[0m\u001b[0;34m\u001b[0m\u001b[0m\n\u001b[1;32m      9\u001b[0m             \u001b[0;32mreturn\u001b[0m \u001b[0mdp\u001b[0m\u001b[0;34m[\u001b[0m\u001b[0mn\u001b[0m\u001b[0;34m]\u001b[0m\u001b[0;34m\u001b[0m\u001b[0;34m\u001b[0m\u001b[0m\n\u001b[0;32m---> 10\u001b[0;31m         \u001b[0mdp\u001b[0m\u001b[0;34m[\u001b[0m\u001b[0mn\u001b[0m\u001b[0;34m]\u001b[0m \u001b[0;34m=\u001b[0m \u001b[0mfib_dp\u001b[0m\u001b[0;34m(\u001b[0m\u001b[0mn\u001b[0m \u001b[0;34m-\u001b[0m \u001b[0;36m1\u001b[0m\u001b[0;34m,\u001b[0m \u001b[0mdp\u001b[0m\u001b[0;34m)\u001b[0m \u001b[0;34m+\u001b[0m \u001b[0mfib_dp\u001b[0m\u001b[0;34m(\u001b[0m\u001b[0mn\u001b[0m \u001b[0;34m-\u001b[0m \u001b[0;36m2\u001b[0m\u001b[0;34m,\u001b[0m \u001b[0mdp\u001b[0m\u001b[0;34m)\u001b[0m\u001b[0;34m\u001b[0m\u001b[0;34m\u001b[0m\u001b[0m\n\u001b[0m\u001b[1;32m     11\u001b[0m         \u001b[0;32mreturn\u001b[0m \u001b[0mdp\u001b[0m\u001b[0;34m\u001b[0m\u001b[0;34m\u001b[0m\u001b[0m\n\u001b[1;32m     12\u001b[0m     \u001b[0;31m# Initialize memoization array with -1\u001b[0m\u001b[0;34m\u001b[0m\u001b[0;34m\u001b[0m\u001b[0m\n",
            "\u001b[0;31mTypeError\u001b[0m: can only concatenate list (not \"int\") to list"
          ]
        }
      ]
    },
    {
      "cell_type": "code",
      "source": [],
      "metadata": {
        "id": "5XfT1cnf0VBl"
      },
      "execution_count": null,
      "outputs": []
    }
  ]
}